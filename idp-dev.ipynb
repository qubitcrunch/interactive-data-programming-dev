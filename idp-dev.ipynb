{
 "cells": [
  {
   "cell_type": "code",
   "execution_count": 16,
   "metadata": {},
   "outputs": [],
   "source": [
    "import pandas as pd\n",
    "import numpy as np \n",
    "from sklearn.cluster import AgglomerativeClustering"
   ]
  },
  {
   "cell_type": "code",
   "execution_count": 4,
   "metadata": {},
   "outputs": [],
   "source": [
    "data = pd.read_csv(\"data/ag_news/ag_news_train.csv\").sample(100)"
   ]
  },
  {
   "cell_type": "code",
   "execution_count": 5,
   "metadata": {},
   "outputs": [
    {
     "data": {
      "text/plain": [
       "(100, 3)"
      ]
     },
     "execution_count": 5,
     "metadata": {},
     "output_type": "execute_result"
    }
   ],
   "source": [
    "data.shape"
   ]
  },
  {
   "cell_type": "code",
   "execution_count": 6,
   "metadata": {},
   "outputs": [
    {
     "name": "stdout",
     "output_type": "stream",
     "text": [
      "Collecting bert-embedding==1.0.1\n",
      "  Downloading bert_embedding-1.0.1-py3-none-any.whl (13 kB)\n",
      "Collecting mxnet==1.4.0\n",
      "  Downloading mxnet-1.4.0-py2.py3-none-manylinux1_x86_64.whl (29.6 MB)\n",
      "\u001b[K     |████████████████████████████████| 29.6 MB 1.8 MB/s eta 0:00:01\n",
      "\u001b[?25hCollecting typing==3.6.6\n",
      "  Downloading typing-3.6.6-py3-none-any.whl (25 kB)\n",
      "Collecting gluonnlp==0.6.0\n",
      "  Downloading gluonnlp-0.6.0.tar.gz (209 kB)\n",
      "\u001b[K     |████████████████████████████████| 209 kB 25.7 MB/s eta 0:00:01\n",
      "\u001b[?25hCollecting numpy==1.14.6\n",
      "  Downloading numpy-1.14.6.zip (4.9 MB)\n",
      "\u001b[K     |████████████████████████████████| 4.9 MB 31.9 MB/s eta 0:00:01\n",
      "\u001b[?25hRequirement already satisfied: requests>=2.20.0 in /usr/local/lib/python3.8/site-packages (from mxnet==1.4.0->bert-embedding==1.0.1) (2.24.0)\n",
      "Collecting graphviz<0.9.0,>=0.8.1\n",
      "  Downloading graphviz-0.8.4-py2.py3-none-any.whl (16 kB)\n",
      "Requirement already satisfied: idna<3,>=2.5 in /usr/local/lib/python3.8/site-packages (from requests>=2.20.0->mxnet==1.4.0->bert-embedding==1.0.1) (2.10)\n",
      "Requirement already satisfied: chardet<4,>=3.0.2 in /usr/local/lib/python3.8/site-packages (from requests>=2.20.0->mxnet==1.4.0->bert-embedding==1.0.1) (3.0.4)\n",
      "Requirement already satisfied: certifi>=2017.4.17 in /usr/local/lib/python3.8/site-packages (from requests>=2.20.0->mxnet==1.4.0->bert-embedding==1.0.1) (2020.6.20)\n",
      "Requirement already satisfied: urllib3!=1.25.0,!=1.25.1,<1.26,>=1.21.1 in /usr/local/lib/python3.8/site-packages (from requests>=2.20.0->mxnet==1.4.0->bert-embedding==1.0.1) (1.25.10)\n",
      "Building wheels for collected packages: gluonnlp, numpy\n",
      "  Building wheel for gluonnlp (setup.py) ... \u001b[?25ldone\n",
      "\u001b[?25h  Created wheel for gluonnlp: filename=gluonnlp-0.6.0-py3-none-any.whl size=259917 sha256=bfb0cd5ca92ce933ef1eb25aa10912082b990e89444ebda92a0eda792f15bbc7\n",
      "  Stored in directory: /root/.cache/pip/wheels/75/d0/a1/57ea55532e4ff6e3efbec7a851724a8f7a5b073ff648dd4160\n",
      "  Building wheel for numpy (setup.py) ... \u001b[?25ldone\n",
      "\u001b[?25h  Created wheel for numpy: filename=numpy-1.14.6-cp38-cp38-linux_x86_64.whl size=13509640 sha256=ecd89dfbcbe963497b26337d5ae4a5d0aa1f997a407c5067a3870c23c1de56b2\n",
      "  Stored in directory: /root/.cache/pip/wheels/77/81/aa/e309a6725c1cb6f5b37c3c67b74828fd4db0827592ff4a4f85\n",
      "Successfully built gluonnlp numpy\n",
      "Installing collected packages: numpy, graphviz, mxnet, typing, gluonnlp, bert-embedding\n",
      "  Attempting uninstall: numpy\n",
      "    Found existing installation: numpy 1.19.1\n",
      "    Uninstalling numpy-1.19.1:\n",
      "      Successfully uninstalled numpy-1.19.1\n",
      "\u001b[31mERROR: After October 2020 you may experience errors when installing or updating packages. This is because pip will change the way that it resolves dependency conflicts.\n",
      "\n",
      "We recommend you use --use-feature=2020-resolver to test your packages with the new resolver before it becomes the default.\n",
      "\n",
      "snorkel 0.9.6 requires numpy<2.0.0,>=1.16.0, but you'll have numpy 1.14.6 which is incompatible.\n",
      "snorkel 0.9.6 requires scikit-learn<0.22.0,>=0.20.2, but you'll have scikit-learn 0.23.2 which is incompatible.\n",
      "pandas 1.1.1 requires numpy>=1.15.4, but you'll have numpy 1.14.6 which is incompatible.\u001b[0m\n",
      "Successfully installed bert-embedding-1.0.1 gluonnlp-0.6.0 graphviz-0.8.4 mxnet-1.4.0 numpy-1.14.6 typing-3.6.6\n"
     ]
    }
   ],
   "source": [
    "!pip install bert-embedding==1.0.1"
   ]
  },
  {
   "cell_type": "code",
   "execution_count": 7,
   "metadata": {},
   "outputs": [],
   "source": [
    "from bert_embedding import BertEmbedding"
   ]
  },
  {
   "cell_type": "code",
   "execution_count": 8,
   "metadata": {},
   "outputs": [
    {
     "name": "stdout",
     "output_type": "stream",
     "text": [
      "Vocab file is not found. Downloading.\n",
      "Downloading /root/.mxnet/models/book_corpus_wiki_en_uncased-a6607397.zip from https://apache-mxnet.s3-accelerate.dualstack.amazonaws.com/gluon/dataset/vocab/book_corpus_wiki_en_uncased-a6607397.zip...\n",
      "Downloading /root/.mxnet/models/bert_12_768_12_book_corpus_wiki_en_uncased-75cc780f.zip from https://apache-mxnet.s3-accelerate.dualstack.amazonaws.com/gluon/models/bert_12_768_12_book_corpus_wiki_en_uncased-75cc780f.zip...\n"
     ]
    }
   ],
   "source": [
    "bert_embedding = BertEmbedding()"
   ]
  },
  {
   "cell_type": "code",
   "execution_count": 9,
   "metadata": {},
   "outputs": [],
   "source": [
    "doc_body = list(data[\"body\"])"
   ]
  },
  {
   "cell_type": "code",
   "execution_count": 10,
   "metadata": {},
   "outputs": [],
   "source": [
    "def bert_embed(docs:list,emb_size = 768):\n",
    "    \n",
    "    out = []\n",
    "    for doc in docs:\n",
    "        sentences = doc.split(\"\\n\")\n",
    "        result = bert_embedding(sentences)\n",
    "        embeds = np.vstack([np.array(e[1]) for e in result])\n",
    "        embeds = np.mean(embeds, axis=0) \n",
    "        out.append(embeds)\n",
    "    \n",
    "    return np.array(out)"
   ]
  },
  {
   "cell_type": "code",
   "execution_count": 11,
   "metadata": {},
   "outputs": [],
   "source": [
    "out = bert_embed(doc_body)"
   ]
  },
  {
   "cell_type": "code",
   "execution_count": 17,
   "metadata": {},
   "outputs": [],
   "source": [
    "clustering = AgglomerativeClustering().fit(out)"
   ]
  },
  {
   "cell_type": "code",
   "execution_count": 30,
   "metadata": {},
   "outputs": [
    {
     "data": {
      "text/plain": [
       "[1,\n",
       " 4,\n",
       " 8,\n",
       " 10,\n",
       " 15,\n",
       " 17,\n",
       " 20,\n",
       " 27,\n",
       " 29,\n",
       " 38,\n",
       " 44,\n",
       " 46,\n",
       " 47,\n",
       " 51,\n",
       " 55,\n",
       " 57,\n",
       " 60,\n",
       " 66,\n",
       " 67,\n",
       " 68,\n",
       " 71,\n",
       " 76,\n",
       " 79,\n",
       " 86,\n",
       " 88,\n",
       " 91,\n",
       " 95]"
      ]
     },
     "execution_count": 30,
     "metadata": {},
     "output_type": "execute_result"
    }
   ],
   "source": [
    "clusters = AgglomerativeClustering(n_clusters=10,).fit(out)\n",
    "[i for i in range(len(clusters.labels_)) if clusters.labels_[i]==1]"
   ]
  },
  {
   "cell_type": "code",
   "execution_count": 36,
   "metadata": {},
   "outputs": [
    {
     "data": {
      "text/plain": [
       "numpy.ndarray"
      ]
     },
     "execution_count": 36,
     "metadata": {},
     "output_type": "execute_result"
    }
   ],
   "source": [
    "type(clusters.labels_)"
   ]
  },
  {
   "cell_type": "code",
   "execution_count": 38,
   "metadata": {},
   "outputs": [],
   "source": [
    "def return_groups(docs:list,clustering:np.ndarray):\n",
    "    labels = set(clustering)\n",
    "    \n",
    "    out = {} \n",
    "    for label in labels:\n",
    "        out[label] = [docs[i] for i in range(len(clustering)) if clustering [i]==label]\n",
    "    \n",
    "    return out"
   ]
  },
  {
   "cell_type": "code",
   "execution_count": 42,
   "metadata": {},
   "outputs": [
    {
     "data": {
      "text/plain": [
       "['The friendly skies aren #39;t so friendly to some Delta employees. The airline plans to cut 7,000 jobs in the next 18 months. It #39;s trying to save \\\\$5 billion by 2006, and that means some major changes.',\n",
       " 'CHICAGO -- Nothing fazes the Minnesota Twins. Threatened with contraction three years ago, they ran away with the AL Central title.',\n",
       " 'Description: NPR #39;s Michele Norris talks with Wall Street Journal sports reporter Stefan Fatsis about the latest news from the college gridiron.',\n",
       " 'SAN FRANCISCO (CBS.MW) -- US Airways Group and its pilots union have resumed negotiations, the Air Line Pilots Association said Wednesday afternoon.',\n",
       " 'The quest for a wireless, robust video game controller is a hit and miss task, says columnist Daniel Etherington.',\n",
       " 'The FCC has voted to approve a spectrum swap for Nextel to keep emergency radio spectrum clean from interference. We let you know that it was likely to be approved, as late as yesterday.',\n",
       " 'November 15, 2004 -- (WEB HOST INDUSTRY REVIEW) -- In an effort to win back some lost market share, Sun Microsystems (sun.com) released Solaris 10, the latest version of the company #39;s Unix-based operating system software, for free on Monday.',\n",
       " 'His online profile lists William P. Genovese #39;s profession as  quot;hacking bum quot; and  quot;getting arrested quot; among his likes.',\n",
       " \"Four major movie studios give support to Toshiba's HD DVD format.  Also: Sony gives details on new computer chip   hellip;.  Kazaa adds free internet phone calls to its repetoire   hellip;. and more.\",\n",
       " 'Nearly two decades after Air India Flight 182 exploded over the Atlantic Ocean killing 329 people, the fate of the two Sikh extremists charged with the bombing is finally in hands of a judge.',\n",
       " \"Nintendo's favorite game boy puts on an entertaining show for tennis purists and gaming thrill seekers, and that's no backhanded compliment. Game review by Chris Kohler.\",\n",
       " 'AP - Flyers star Jeremy Roenick paid more than  #36;100,000 to a Florida firm that made millions selling betting tips to gamblers, law enforcement officials told The Philadelphia Inquirer.',\n",
       " ' WASHINGTON (Reuters) - Consumer Reports magazine, best  known for comparing the prices and performance of cars,  televisions and washing machines, is adding drugs to its  coverage to help Americans save money on their health care.',\n",
       " \"While the debate rages on the economics of deploying and operating WiMax networks, a U.K. start-up is quietly building what it hopes will be the country's first network based on this emerging high-speed broadband wireless technology.\",\n",
       " ' WASHINGTON (Reuters) - Paul Nitze, one of the last leading  U.S. statesmen of the Cold War period and architect of nuclear  deterrence, has died at the age of 97.',\n",
       " 'Last year, only the highest-end Power Macs were dual-processor. Now, all Power Macs are, including the entry-level 1.8-GHz model. The 2.5-GHz G5 processors use a new heat-pipe system ',\n",
       " ' TOKYO (Reuters) - In a bold gambit worthy of the chess  champion he once was, Bobby Fischer plans to wed a four-time  Japan great in the hope of avoiding deportation home to the  United States, where he is wanted for breaking sanctions.',\n",
       " \" NEW YORK (Reuters) - A criminal probe of Boeing Co.'s  dealings with the U.S. Air Force is widening to include a \\\\$100  billion Army program it oversees, the Wall Street Journal  reported on Tuesday.\",\n",
       " 'PARIS The chief executive of Boeing, Harry Stonecipher, insisted Thursday that he was trying to prevent a trans-Atlantic dispute over subsidies for Airbus by demanding an end to government aid programs for the rival aircraft manufacturer.',\n",
       " 'With everyone from ESPN to Eminem opening sales channels to cellphone-owning fans, m-Qube Inc., a Boston wireless company that delivers entertainment content, has raised \\\\$17.5 million in venture capital funding to ramp up its sales and technology development.',\n",
       " 'PASADENA, CALIF. - Two helicopter stunt pilots from Hollywood will try to snag a capsule of stardust in midair, NASA has announced. ',\n",
       " 'One year after a highly critical report urged NASA to develop the means to fix a broken space shuttle in orbit, the US space agency still cannot repair a ',\n",
       " 'By now, most people have at least heard of the AMT, but those who still think of it as what it was intended to be -- a special tax to make sure rich people pay at least something to the government -- are badly out of date.',\n",
       " 'CINCINNATI - John Kerry, telling fellow combat veterans he\\'s their \"true brother in arms,\" said Wednesday that President Bush\\'s plan to withdraw U.S. troops from Europe and Asia would weaken U.S...',\n",
       " \"Systems, which start as low as \\\\$500, don't require advanced IT skills.\",\n",
       " 'The union that represents pilots at United Airlines said yesterday that it had struck a deal that would allow the airline to terminate the pilots #39; ailing pension plan and partly compensate them for the loss.',\n",
       " 'Scotland #39;s biggest dairy firm, Robert Wiseman Dairies RWD.L , says it is in talks with farmers #39; co-operative First Milk, which supplies Wiseman with milk, about buying a 15 percent stake in Wiseman.']"
      ]
     },
     "execution_count": 42,
     "metadata": {},
     "output_type": "execute_result"
    }
   ],
   "source": [
    "return_groups(doc_body,clusters.labels_)[1]"
   ]
  },
  {
   "cell_type": "code",
   "execution_count": null,
   "metadata": {},
   "outputs": [],
   "source": []
  }
 ],
 "metadata": {
  "kernelspec": {
   "display_name": "Python 3",
   "language": "python",
   "name": "python3"
  },
  "language_info": {
   "codemirror_mode": {
    "name": "ipython",
    "version": 3
   },
   "file_extension": ".py",
   "mimetype": "text/x-python",
   "name": "python",
   "nbconvert_exporter": "python",
   "pygments_lexer": "ipython3",
   "version": "3.8.5"
  }
 },
 "nbformat": 4,
 "nbformat_minor": 4
}
